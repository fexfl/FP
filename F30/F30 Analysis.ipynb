{
 "cells": [
  {
   "cell_type": "code",
   "execution_count": 1,
   "metadata": {},
   "outputs": [],
   "source": [
    "from glob import glob"
   ]
  },
  {
   "cell_type": "code",
   "execution_count": 3,
   "metadata": {},
   "outputs": [
    {
     "name": "stdout",
     "output_type": "stream",
     "text": [
      "['./DarkMeasurements\\\\dark_0000.fits', './DarkMeasurements\\\\dark_0001.fits', './DarkMeasurements\\\\dark_0002.fits', './DarkMeasurements\\\\dark_0003.fits', './DarkMeasurements\\\\dark_0004.fits', './DarkMeasurements\\\\dark_0005.fits', './DarkMeasurements\\\\dark_0006.fits', './DarkMeasurements\\\\dark_0007.fits', './DarkMeasurements\\\\dark_0008.fits', './DarkMeasurements\\\\dark_0009.fits', './DarkMeasurements\\\\dark_0010.fits', './DarkMeasurements\\\\dark_0011.fits', './DarkMeasurements\\\\dark_0012.fits', './DarkMeasurements\\\\dark_0013.fits', './DarkMeasurements\\\\dark_0014.fits', './DarkMeasurements\\\\dark_0015.fits', './DarkMeasurements\\\\dark_0016.fits', './DarkMeasurements\\\\dark_0017.fits', './DarkMeasurements\\\\dark_0018.fits', './DarkMeasurements\\\\dark_0019.fits', './DarkMeasurements\\\\dark_0020.fits', './DarkMeasurements\\\\dark_0021.fits', './DarkMeasurements\\\\dark_0022.fits', './DarkMeasurements\\\\dark_0023.fits', './DarkMeasurements\\\\dark_0024.fits', './DarkMeasurements\\\\dark_0025.fits', './DarkMeasurements\\\\dark_0026.fits', './DarkMeasurements\\\\dark_0027.fits', './DarkMeasurements\\\\dark_0028.fits', './DarkMeasurements\\\\dark_0029.fits', './DarkMeasurements\\\\dark_0030.fits', './DarkMeasurements\\\\dark_0031.fits', './DarkMeasurements\\\\dark_0032.fits', './DarkMeasurements\\\\dark_0033.fits', './DarkMeasurements\\\\dark_0034.fits', './DarkMeasurements\\\\dark_0035.fits', './DarkMeasurements\\\\dark_0036.fits', './DarkMeasurements\\\\dark_0037.fits', './DarkMeasurements\\\\dark_0038.fits', './DarkMeasurements\\\\dark_0039.fits', './DarkMeasurements\\\\dark_0040.fits', './DarkMeasurements\\\\dark_0041.fits', './DarkMeasurements\\\\dark_0042.fits', './DarkMeasurements\\\\dark_0043.fits', './DarkMeasurements\\\\dark_0044.fits', './DarkMeasurements\\\\dark_0045.fits', './DarkMeasurements\\\\dark_0046.fits', './DarkMeasurements\\\\dark_0047.fits', './DarkMeasurements\\\\dark_0048.fits', './DarkMeasurements\\\\dark_0049.fits', './DarkMeasurements\\\\dark_0050.fits', './DarkMeasurements\\\\dark_0051.fits', './DarkMeasurements\\\\dark_0052.fits', './DarkMeasurements\\\\dark_0053.fits', './DarkMeasurements\\\\dark_0054.fits', './DarkMeasurements\\\\dark_0055.fits', './DarkMeasurements\\\\dark_0056.fits', './DarkMeasurements\\\\dark_0057.fits']\n"
     ]
    }
   ],
   "source": [
    "all_dark_fits = glob(\"./DarkMeasurements/dark*.fits\")\n",
    "print(all_dark_fits)"
   ]
  },
  {
   "cell_type": "code",
   "execution_count": null,
   "metadata": {},
   "outputs": [],
   "source": []
  }
 ],
 "metadata": {
  "kernelspec": {
   "display_name": "Python 3",
   "language": "python",
   "name": "python3"
  },
  "language_info": {
   "codemirror_mode": {
    "name": "ipython",
    "version": 3
   },
   "file_extension": ".py",
   "mimetype": "text/x-python",
   "name": "python",
   "nbconvert_exporter": "python",
   "pygments_lexer": "ipython3",
   "version": "3.8.5"
  }
 },
 "nbformat": 4,
 "nbformat_minor": 4
}
