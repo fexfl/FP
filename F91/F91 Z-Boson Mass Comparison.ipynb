{
 "cells": [
  {
   "cell_type": "code",
   "execution_count": 3,
   "id": "4367517c",
   "metadata": {},
   "outputs": [],
   "source": [
    "import numpy as np"
   ]
  },
  {
   "cell_type": "code",
   "execution_count": 4,
   "id": "ea28f0ee",
   "metadata": {},
   "outputs": [],
   "source": [
    "# Values from the Convolution fit\n",
    "M_z = 90.58\n",
    "M_z_err = 0.005\n",
    "Gamma = 3.688\n",
    "Gamma_err = 0.015\n",
    "Sigma = 1.528\n",
    "Sigma_err = 0.011\n",
    "\n",
    "# PDG Z-Mass value\n",
    "M_z_PDG = 91.1876\n",
    "M_z_PDG_err = 0.0021\n",
    "Gamma_PDG = 2.4952\n",
    "Gamma_PDG_err = 0.0023"
   ]
  },
  {
   "cell_type": "code",
   "execution_count": 5,
   "id": "8ede972b",
   "metadata": {},
   "outputs": [
    {
     "name": "stdout",
     "output_type": "stream",
     "text": [
      "Deviation: 112.03926547340748\n",
      "Gamma Deviation: 78.601365442053\n"
     ]
    }
   ],
   "source": [
    "# Comparing Mass to PDG Value\n",
    "dev = (M_z_PDG - M_z)/(np.sqrt(M_z_err**2 + M_z_PDG_err**2))\n",
    "print(\"Deviation:\", dev)\n",
    "\n",
    "# Comparing Width to PDG Value\n",
    "dev_gamma = (Gamma - Gamma_PDG)/(np.sqrt(Gamma_err**2 + Gamma_PDG_err**2))\n",
    "print(\"Gamma Deviation:\", dev_gamma)"
   ]
  },
  {
   "cell_type": "code",
   "execution_count": null,
   "id": "9fce3636",
   "metadata": {},
   "outputs": [],
   "source": []
  }
 ],
 "metadata": {
  "kernelspec": {
   "display_name": "Python 3",
   "language": "python",
   "name": "python3"
  },
  "language_info": {
   "codemirror_mode": {
    "name": "ipython",
    "version": 3
   },
   "file_extension": ".py",
   "mimetype": "text/x-python",
   "name": "python",
   "nbconvert_exporter": "python",
   "pygments_lexer": "ipython3",
   "version": "3.8.8"
  }
 },
 "nbformat": 4,
 "nbformat_minor": 5
}
