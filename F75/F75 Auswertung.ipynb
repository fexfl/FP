{
 "cells": [
  {
   "cell_type": "code",
   "execution_count": 1,
   "id": "7e17468c",
   "metadata": {},
   "outputs": [],
   "source": [
    "import numpy as np\n",
    "import matplotlib as plt\n",
    "from scipy.optimize import curve_fit"
   ]
  },
  {
   "cell_type": "code",
   "execution_count": 10,
   "id": "8cc7adc7",
   "metadata": {},
   "outputs": [],
   "source": [
    "frequency_130, amp_130, amp_130_err, phase_130, phase_130_err =np.loadtxt('FrequencyMeasurements/Output130.txt',skiprows=1, unpack=True)\n",
    "frequency_850, amp_850, amp_850_err, phase_850, phase_850_err =np.loadtxt('FrequencyMeasurements/Output850.txt',skiprows=1, unpack=True)\n",
    "frequency_2425, amp_2425, amp_2425_err, phase_2425, phase_2425_err =np.loadtxt('FrequencyMeasurements/Output2425.txt',skiprows=1, unpack=True)\n",
    "\n",
    "# creating an array containing numpy arrays\n",
    "frequency = []\n",
    "frequency.append(frequency_130)\n",
    "frequency.append(frequency_850)\n",
    "frequency.append(frequency_2425)\n",
    "\n",
    "amp = []\n",
    "amp.append(amp_130)\n",
    "amp.append(amp_850)\n",
    "amp.append(amp_2425)\n",
    "\n",
    "amp_err = []\n",
    "amp_err.append(amp_130_err)\n",
    "amp_err.append(amp_850_err)\n",
    "amp_err.append(amp_2425_err)\n",
    "\n",
    "phase = []\n",
    "phase.append(phase_130)\n",
    "phase.append(phase_850)\n",
    "phase.append(phase_2425)\n",
    "\n",
    "phase_err = []\n",
    "phase_err.append(phase_130_err)\n",
    "phase_err.append(phase_850_err)\n",
    "phase_err.append(phase_2425_err)"
   ]
  },
  {
   "cell_type": "code",
   "execution_count": null,
   "id": "02ea23bf",
   "metadata": {},
   "outputs": [],
   "source": []
  }
 ],
 "metadata": {
  "kernelspec": {
   "display_name": "Python 3",
   "language": "python",
   "name": "python3"
  },
  "language_info": {
   "codemirror_mode": {
    "name": "ipython",
    "version": 3
   },
   "file_extension": ".py",
   "mimetype": "text/x-python",
   "name": "python",
   "nbconvert_exporter": "python",
   "pygments_lexer": "ipython3",
   "version": "3.8.8"
  }
 },
 "nbformat": 4,
 "nbformat_minor": 5
}
